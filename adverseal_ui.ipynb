{
  "nbformat": 4,
  "nbformat_minor": 0,
  "metadata": {
    "colab": {
      "provenance": [],
      "gpuType": "T4"
    },
    "kernelspec": {
      "name": "python3",
      "display_name": "Python 3"
    },
    "language_info": {
      "name": "python"
    },
    "accelerator": "GPU"
  },
  "cells": [
    {
      "cell_type": "code",
      "execution_count": null,
      "metadata": {
        "id": "nZ4-MDrNif7v"
      },
      "outputs": [],
      "source": [
        "!git clone https://github.com/borzois/adverseal.git"
      ]
    },
    {
      "cell_type": "code",
      "source": [
        "%cd adverseal\n",
        "!pip install -r requirements.txt"
      ],
      "metadata": {
        "id": "YTrTASVNj270"
      },
      "execution_count": null,
      "outputs": []
    },
    {
      "cell_type": "code",
      "source": [
        "!cp -r /content/drive/MyDrive/Diffusers/stable-diffusion-1-5 /content/adverseal/models/stable-diffusion"
      ],
      "metadata": {
        "id": "703b0AUzkVtj"
      },
      "execution_count": null,
      "outputs": []
    },
    {
      "cell_type": "code",
      "source": [
        "!python adverseal.py"
      ],
      "metadata": {
        "id": "LkTOrqoTliey"
      },
      "execution_count": null,
      "outputs": []
    }
  ]
}