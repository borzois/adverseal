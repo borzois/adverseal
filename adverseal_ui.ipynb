{
  "cells": [
    {
      "cell_type": "markdown",
      "source": [
        "# ADVERSEAL"
      ],
      "metadata": {
        "id": "P5idX07UePPl"
      }
    },
    {
      "cell_type": "markdown",
      "source": [
        "## Get Adverseal and install dependencies"
      ],
      "metadata": {
        "id": "i3_HmDIQeRl3"
      }
    },
    {
      "cell_type": "code",
      "execution_count": null,
      "metadata": {
        "id": "nZ4-MDrNif7v"
      },
      "outputs": [],
      "source": [
        "!git clone https://github.com/borzois/adverseal.git"
      ]
    },
    {
      "cell_type": "code",
      "execution_count": null,
      "metadata": {
        "id": "YTrTASVNj270"
      },
      "outputs": [],
      "source": [
        "%cd adverseal\n",
        "!pip install -r requirements.txt"
      ]
    },
    {
      "cell_type": "markdown",
      "source": [
        "## Get Stable Diffusion\n",
        "If this is unavailable, a copy of the model must be sourced externally."
      ],
      "metadata": {
        "id": "_XqnsUHeeYOl"
      }
    },
    {
      "cell_type": "code",
      "execution_count": null,
      "metadata": {
        "id": "703b0AUzkVtj"
      },
      "outputs": [],
      "source": [
        "!cp -r /content/drive/MyDrive/Diffusers/stable-diffusion-1-5 /content/adverseal/models/stable-diffusion"
      ]
    },
    {
      "cell_type": "markdown",
      "source": [
        "# Run the GUI"
      ],
      "metadata": {
        "id": "D1vlxdjUekzC"
      }
    },
    {
      "cell_type": "code",
      "execution_count": null,
      "metadata": {
        "id": "LkTOrqoTliey"
      },
      "outputs": [],
      "source": [
        "!python adverseal.py"
      ]
    }
  ],
  "metadata": {
    "accelerator": "GPU",
    "colab": {
      "gpuType": "T4",
      "provenance": []
    },
    "kernelspec": {
      "display_name": "Python 3",
      "name": "python3"
    },
    "language_info": {
      "name": "python"
    }
  },
  "nbformat": 4,
  "nbformat_minor": 0
}